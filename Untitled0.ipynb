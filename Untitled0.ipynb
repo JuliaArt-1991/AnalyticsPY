{
  "nbformat": 4,
  "nbformat_minor": 0,
  "metadata": {
    "colab": {
      "provenance": [],
      "authorship_tag": "ABX9TyMXn0aUqMXO5tZ8wkQmUnUK"
    },
    "kernelspec": {
      "name": "python3",
      "display_name": "Python 3"
    },
    "language_info": {
      "name": "python"
    }
  },
  "cells": [
    {
      "cell_type": "markdown",
      "source": [
        "## Задача 1\n",
        "На складе лежат разные фрукты в разном количестве. Нужно написать функцию, которая на вход принимает любое количество названий фруктов и их количество, а возвращает общее количество фруктов на складе."
      ],
      "metadata": {
        "id": "bzEhRGIrU-Oq"
      }
    },
    {
      "cell_type": "code",
      "source": [
        "def fruits(**kwargs):\n",
        "    total_fruits = sum(kwargs.values())\n",
        "    return f'Total fruits: {total_fruits}'\n",
        "\n",
        "fruits(apples=10, pears=5, bananas=4)"
      ],
      "metadata": {
        "colab": {
          "base_uri": "https://localhost:8080/",
          "height": 35
        },
        "id": "HZYlspHfVWtj",
        "outputId": "0d8cd266-8c04-4ebc-fda6-20c58105c726"
      },
      "execution_count": 4,
      "outputs": [
        {
          "output_type": "execute_result",
          "data": {
            "text/plain": [
              "'Total fruits: 19'"
            ],
            "application/vnd.google.colaboratory.intrinsic+json": {
              "type": "string"
            }
          },
          "metadata": {},
          "execution_count": 4
        }
      ]
    },
    {
      "cell_type": "markdown",
      "source": [
        "## Задача 2\n",
        "Дан список с затратами на рекламу. Но в данных есть ошибки, некоторые затраты имеют отрицательную величину. Удалите такие значения из списка и посчитайте суммарные затраты.\n",
        "\n",
        "Используйте list comprehensions."
      ],
      "metadata": {
        "id": "8MXjjmQjW4KE"
      }
    },
    {
      "cell_type": "code",
      "source": [
        "def cost(data: list):\n",
        "    new_data = []\n",
        "    for i in data:\n",
        "        if i > 0:\n",
        "            new_data.append(i)\n",
        "    print(new_data)\n",
        "    print(f'Total cost: {sum(new_data)}')\n",
        "\n",
        "data = [100, 125, -90, 345, 655, -1, 0, 200]\n",
        "cost(data)"
      ],
      "metadata": {
        "colab": {
          "base_uri": "https://localhost:8080/"
        },
        "id": "2BnoQ_HsXJ1G",
        "outputId": "af79e5e0-8208-4f60-ba0a-30b74b2d28b8"
      },
      "execution_count": 11,
      "outputs": [
        {
          "output_type": "stream",
          "name": "stdout",
          "text": [
            "[100, 125, 345, 655, 200]\n",
            "Total cost: 1425\n"
          ]
        }
      ]
    },
    {
      "cell_type": "markdown",
      "source": [
        "## Задача 3\n",
        "Даны два списка. Дата покупки и суммы покупок по датам.\n",
        "### 4.1 Найдите, какая выручка у компании в ноябре\n",
        "Используйте list comprehensions"
      ],
      "metadata": {
        "id": "S1JrL-grZDYY"
      }
    },
    {
      "cell_type": "code",
      "source": [
        "date = ['2021-09-14', '2021-12-15', '2021-09-08', '2021-12-05', '2021-10-09',\n",
        "        '2021-09-30', '2021-12-22', '2021-11-29', '2021-12-24', '2021-11-26',\n",
        "        '2021-10-27', '2021-12-18', '2021-11-09', '2021-11-23', '2021-09-27',\n",
        "        '2021-10-02', '2021-12-27', '2021-09-20', '2021-12-13', '2021-11-01',\n",
        "        '2021-11-09', '2021-12-06', '2021-12-08', '2021-10-09', '2021-10-31',\n",
        "        '2021-09-30', '2021-11-09', '2021-12-13', '2021-10-26', '2021-12-09']\n",
        "cost = [1270, 8413, 9028, 3703, 5739, 4095, 295, 4944, 5723, 3701,\n",
        "        4471, 651, 7037, 4274, 6275, 4988, 6930, 2971, 6592, 2004,\n",
        "        2822, 519, 3406, 2732, 5015, 2008, 316, 6333, 5700, 2887]"
      ],
      "metadata": {
        "id": "0tZl8mohZTu_"
      },
      "execution_count": 12,
      "outputs": []
    },
    {
      "cell_type": "code",
      "source": [
        "def november(data1: list, data2: list) -> list:\n",
        "    new_data = []\n",
        "    for i in range(len(data1)-1):\n",
        "        if '-11-' in data1[i]:\n",
        "            new_data.append(data2[i])\n",
        "    return new_data"
      ],
      "metadata": {
        "id": "Ztybl5YZZeSA"
      },
      "execution_count": 13,
      "outputs": []
    },
    {
      "cell_type": "code",
      "source": [
        "print(november(date, cost))\n",
        "f'Выручка:{sum(november(date, cost))}'"
      ],
      "metadata": {
        "colab": {
          "base_uri": "https://localhost:8080/",
          "height": 53
        },
        "id": "lDgU6bx2Zhb9",
        "outputId": "8ed3c037-339d-489b-ec81-48693a3037d6"
      },
      "execution_count": 25,
      "outputs": [
        {
          "output_type": "stream",
          "name": "stdout",
          "text": [
            "[4944, 3701, 7037, 4274, 2004, 2822, 316]\n"
          ]
        },
        {
          "output_type": "execute_result",
          "data": {
            "text/plain": [
              "'Выручка:25098'"
            ],
            "application/vnd.google.colaboratory.intrinsic+json": {
              "type": "string"
            }
          },
          "metadata": {},
          "execution_count": 25
        }
      ]
    },
    {
      "cell_type": "markdown",
      "source": [
        "### 4.2 Найдите выручку компании в зависимости от месяца\n",
        "Для этого напишите функцию, которая на вход принимает список с датами и список с выручкой, а на выходе словарь, где ключи - это месяцы, а значения - это выручка.\n",
        "Используйте аннотирование типов."
      ],
      "metadata": {
        "id": "vdrQVJAOaL9T"
      }
    },
    {
      "cell_type": "code",
      "source": [
        "def profits(data1: list, data2: list) -> dict:\n",
        "    profits = {}\n",
        "    for i in range(len(data1)):\n",
        "        if date[i].split('-')[1] in profits.keys():\n",
        "            profits[date[i].split('-')[1]] += cost[i]\n",
        "        else:\n",
        "            profits[date[i].split('-')[1]] = cost[i]\n",
        "    return profits\n",
        "\n",
        "profits(date, cost)"
      ],
      "metadata": {
        "colab": {
          "base_uri": "https://localhost:8080/"
        },
        "id": "U19fq0LWaSMm",
        "outputId": "54e7156e-efbb-4b6b-bd17-744485f688b2"
      },
      "execution_count": 26,
      "outputs": [
        {
          "output_type": "execute_result",
          "data": {
            "text/plain": [
              "{'09': 25647, '12': 45452, '10': 28645, '11': 25098}"
            ]
          },
          "metadata": {},
          "execution_count": 26
        }
      ]
    }
  ]
}